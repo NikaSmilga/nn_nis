{
 "cells": [
  {
   "cell_type": "markdown",
   "metadata": {},
   "source": [
    "# В этой тетрадке лежит мое решение 3 пункта (сначала я обучала здесь, чтобы ничего не сломать там, а теперь мне лень полчаса переобучать все заново в соседней тетрадке, извините :( ) "
   ]
  },
  {
   "cell_type": "markdown",
   "metadata": {},
   "source": [
    "Что я тут сделала:\n",
    "- иначе предобработала данные, а именно:\n",
    "- поставила порог 10, чтоб вошло больше слов и было больше совпадений с корпусом, с кот. мы сравниваем + авторы статьи советуют брать именно 10, а не 15\n",
    "- просто взяла больше данных (до определенного момента больше=лучше)\n",
    "- увеличила размерность векторов с 20 до 50, чтоб они содержали были более информативны"
   ]
  },
  {
   "cell_type": "markdown",
   "metadata": {},
   "source": [
    "## Можно посмотреть, какие данные я загружаю, и дальше сразу листать к пункту _допишите обучалку_, больше я ничего тут не меняла по сравнению с соседней тетрадкой."
   ]
  },
  {
   "cell_type": "code",
   "execution_count": 1,
   "metadata": {},
   "outputs": [],
   "source": [
    "import json\n",
    "import random\n",
    "from tqdm import tqdm\n",
    "import numpy as np\n",
    "\n",
    "from matplotlib import pyplot as plt\n",
    "from sklearn.decomposition import TruncatedSVD\n",
    "from sklearn.manifold import TSNE\n",
    "\n",
    "import torch\n",
    "\n",
    "from pylab import rcParams\n",
    "rcParams['figure.figsize'] = 15, 15"
   ]
  },
  {
   "cell_type": "markdown",
   "metadata": {},
   "source": [
    "# Что делать?\n",
    "Где есть пометка # CODE писать код\n",
    "\n",
    "[Полезный туториал](http://jalammar.github.io/illustrated-word2vec/)"
   ]
  },
  {
   "cell_type": "markdown",
   "metadata": {},
   "source": [
    "# Загружаем данные\n",
    "Они уже обработанные и токенизированные. Процесс можно посмотреть в тетрадке 1.1 Processing corpus"
   ]
  },
  {
   "cell_type": "code",
   "execution_count": 213,
   "metadata": {},
   "outputs": [],
   "source": [
    "with open('/Users/veronicasmilga/Desktop/processed_corpus_large.json') as f:\n",
    "    corpus = json.load(f)"
   ]
  },
  {
   "cell_type": "code",
   "execution_count": 214,
   "metadata": {},
   "outputs": [
    {
     "data": {
      "text/plain": [
       "200000"
      ]
     },
     "execution_count": 214,
     "metadata": {},
     "output_type": "execute_result"
    }
   ],
   "source": [
    "len(corpus)"
   ]
  },
  {
   "cell_type": "code",
   "execution_count": 215,
   "metadata": {},
   "outputs": [
    {
     "name": "stdout",
     "output_type": "stream",
     "text": [
      "цена игра ##число руб платить ##число руб сверху минимум странно\n",
      "какой мужчина искать женщина впихнуть хотеть нужный услуга\n",
      "заведение карта отделение банк вы указать номер мобильный телефон\n",
      "хотя отделение находиться далеко мой дом променять территориальный удобство качество обслуживание\n",
      "звонок горячий линия оператор вообще сообщить банкомат принимать наличный\n"
     ]
    }
   ],
   "source": [
    "for text in corpus[:5]:\n",
    "    print(' '.join(text))"
   ]
  },
  {
   "cell_type": "markdown",
   "metadata": {},
   "source": [
    "# CBOW"
   ]
  },
  {
   "cell_type": "code",
   "execution_count": 216,
   "metadata": {},
   "outputs": [],
   "source": [
    "sample_text = corpus[1]"
   ]
  },
  {
   "cell_type": "code",
   "execution_count": 217,
   "metadata": {},
   "outputs": [
    {
     "data": {
      "text/plain": [
       "'какой мужчина искать женщина впихнуть хотеть нужный услуга'"
      ]
     },
     "execution_count": 217,
     "metadata": {},
     "output_type": "execute_result"
    }
   ],
   "source": [
    "' '.join(sample_text)"
   ]
  },
  {
   "cell_type": "markdown",
   "metadata": {},
   "source": [
    "# Реализуйте разделение предложения на примеры методом CBOW"
   ]
  },
  {
   "cell_type": "code",
   "execution_count": 218,
   "metadata": {},
   "outputs": [],
   "source": [
    "def cbow_split(tokens, window, pad_token='PAD'):\n",
    "    splits = []\n",
    "    for word in enumerate(tokens):\n",
    "        left = []\n",
    "        right = []\n",
    "        for i in range(window):\n",
    "            if (word[0] - i) > 0:\n",
    "                token_left = tokens[word[0] - i - 1]\n",
    "            else:\n",
    "                token_left = pad_token\n",
    "            try:\n",
    "                token_right = tokens[word[0] + i + 1]\n",
    "            except:\n",
    "                token_right = pad_token\n",
    "            left.append(token_left)\n",
    "            right.append(token_right)\n",
    "        splits.append((left[::-1], word[1], right))\n",
    "    return splits"
   ]
  },
  {
   "cell_type": "code",
   "execution_count": 219,
   "metadata": {},
   "outputs": [
    {
     "data": {
      "text/plain": [
       "['какой',\n",
       " 'мужчина',\n",
       " 'искать',\n",
       " 'женщина',\n",
       " 'впихнуть',\n",
       " 'хотеть',\n",
       " 'нужный',\n",
       " 'услуга']"
      ]
     },
     "execution_count": 219,
     "metadata": {},
     "output_type": "execute_result"
    }
   ],
   "source": [
    "sample_text"
   ]
  },
  {
   "cell_type": "code",
   "execution_count": 220,
   "metadata": {
    "scrolled": true
   },
   "outputs": [],
   "source": [
    "splits = cbow_split(sample_text, window=2)"
   ]
  },
  {
   "cell_type": "code",
   "execution_count": 221,
   "metadata": {},
   "outputs": [
    {
     "name": "stdout",
     "output_type": "stream",
     "text": [
      "(['PAD', 'PAD'], 'какой', ['мужчина', 'искать'])\n",
      "(['PAD', 'какой'], 'мужчина', ['искать', 'женщина'])\n",
      "(['какой', 'мужчина'], 'искать', ['женщина', 'впихнуть'])\n",
      "(['мужчина', 'искать'], 'женщина', ['впихнуть', 'хотеть'])\n",
      "(['искать', 'женщина'], 'впихнуть', ['хотеть', 'нужный'])\n",
      "(['женщина', 'впихнуть'], 'хотеть', ['нужный', 'услуга'])\n",
      "(['впихнуть', 'хотеть'], 'нужный', ['услуга', 'PAD'])\n",
      "(['хотеть', 'нужный'], 'услуга', ['PAD', 'PAD'])\n"
     ]
    }
   ],
   "source": [
    "for sample in splits:\n",
    "    print(sample)"
   ]
  },
  {
   "cell_type": "code",
   "execution_count": 222,
   "metadata": {},
   "outputs": [
    {
     "name": "stdout",
     "output_type": "stream",
     "text": [
      "Левый контекст: ['PAD', 'PAD']\n",
      "Центральное слово: какой\n",
      "Правый контекст: ['мужчина', 'искать']\n",
      "\n",
      "Левый контекст: ['PAD', 'какой']\n",
      "Центральное слово: мужчина\n",
      "Правый контекст: ['искать', 'женщина']\n",
      "\n",
      "Левый контекст: ['какой', 'мужчина']\n",
      "Центральное слово: искать\n",
      "Правый контекст: ['женщина', 'впихнуть']\n",
      "\n",
      "Левый контекст: ['мужчина', 'искать']\n",
      "Центральное слово: женщина\n",
      "Правый контекст: ['впихнуть', 'хотеть']\n",
      "\n",
      "Левый контекст: ['искать', 'женщина']\n",
      "Центральное слово: впихнуть\n",
      "Правый контекст: ['хотеть', 'нужный']\n",
      "\n",
      "Левый контекст: ['женщина', 'впихнуть']\n",
      "Центральное слово: хотеть\n",
      "Правый контекст: ['нужный', 'услуга']\n",
      "\n",
      "Левый контекст: ['впихнуть', 'хотеть']\n",
      "Центральное слово: нужный\n",
      "Правый контекст: ['услуга', 'PAD']\n",
      "\n",
      "Левый контекст: ['хотеть', 'нужный']\n",
      "Центральное слово: услуга\n",
      "Правый контекст: ['PAD', 'PAD']\n",
      "\n"
     ]
    }
   ],
   "source": [
    "for sample in splits:\n",
    "    print('Левый контекст:', sample[0])\n",
    "    print('Центральное слово:', sample[1])\n",
    "    print('Правый контекст:', sample[2], end='\\n\\n')"
   ]
  },
  {
   "cell_type": "code",
   "execution_count": 223,
   "metadata": {},
   "outputs": [
    {
     "data": {
      "text/plain": [
       "[(['PAD', 'PAD'], 'какой', ['мужчина', 'искать']),\n",
       " (['PAD', 'какой'], 'мужчина', ['искать', 'женщина']),\n",
       " (['какой', 'мужчина'], 'искать', ['женщина', 'впихнуть']),\n",
       " (['мужчина', 'искать'], 'женщина', ['впихнуть', 'хотеть']),\n",
       " (['искать', 'женщина'], 'впихнуть', ['хотеть', 'нужный']),\n",
       " (['женщина', 'впихнуть'], 'хотеть', ['нужный', 'услуга']),\n",
       " (['впихнуть', 'хотеть'], 'нужный', ['услуга', 'PAD']),\n",
       " (['хотеть', 'нужный'], 'услуга', ['PAD', 'PAD'])]"
      ]
     },
     "execution_count": 223,
     "metadata": {},
     "output_type": "execute_result"
    }
   ],
   "source": [
    "splits"
   ]
  },
  {
   "cell_type": "markdown",
   "metadata": {},
   "source": [
    "# Expected\n",
    "\n",
    "```python\n",
    "[(['PAD', 'PAD'], 'вопрос', ['почему', 'например']),\n",
    " (['PAD', 'вопрос'], 'почему', ['например', 'китайский']),\n",
    " (['вопрос', 'почему'], 'например', ['китайский', 'японский']),\n",
    " (['почему', 'например'], 'китайский', ['японский', 'UNK']),\n",
    " (['например', 'китайский'], 'японский', ['UNK', 'PAD']),\n",
    " (['китайский', 'японский'], 'UNK', ['PAD', 'PAD'])]\n",
    "```"
   ]
  },
  {
   "cell_type": "code",
   "execution_count": 224,
   "metadata": {
    "scrolled": true
   },
   "outputs": [
    {
     "data": {
      "text/plain": [
       "[(['PAD', 'PAD', 'PAD'], 'какой', ['мужчина', 'искать', 'женщина']),\n",
       " (['PAD', 'PAD', 'какой'], 'мужчина', ['искать', 'женщина', 'впихнуть']),\n",
       " (['PAD', 'какой', 'мужчина'], 'искать', ['женщина', 'впихнуть', 'хотеть']),\n",
       " (['какой', 'мужчина', 'искать'], 'женщина', ['впихнуть', 'хотеть', 'нужный']),\n",
       " (['мужчина', 'искать', 'женщина'],\n",
       "  'впихнуть',\n",
       "  ['хотеть', 'нужный', 'услуга']),\n",
       " (['искать', 'женщина', 'впихнуть'], 'хотеть', ['нужный', 'услуга', 'PAD']),\n",
       " (['женщина', 'впихнуть', 'хотеть'], 'нужный', ['услуга', 'PAD', 'PAD']),\n",
       " (['впихнуть', 'хотеть', 'нужный'], 'услуга', ['PAD', 'PAD', 'PAD'])]"
      ]
     },
     "execution_count": 224,
     "metadata": {},
     "output_type": "execute_result"
    }
   ],
   "source": [
    "cbow_split(sample_text, window=3)"
   ]
  },
  {
   "cell_type": "markdown",
   "metadata": {},
   "source": [
    "# Expected\n",
    "\n",
    "```python\n",
    "[(['PAD', 'PAD', 'PAD'], 'вопрос', ['почему', 'например', 'китайский']),\n",
    " (['PAD', 'PAD', 'вопрос'], 'почему', ['например', 'китайский', 'японский']),\n",
    " (['PAD', 'вопрос', 'почему'], 'например', ['китайский', 'японский', 'UNK']),\n",
    " (['вопрос', 'почему', 'например'], 'китайский', ['японский', 'UNK', 'PAD']),\n",
    " (['почему', 'например', 'китайский'], 'японский', ['UNK', 'PAD', 'PAD']),\n",
    " (['например', 'китайский', 'японский'], 'UNK', ['PAD', 'PAD', 'PAD'])]\n",
    "```"
   ]
  },
  {
   "cell_type": "markdown",
   "metadata": {},
   "source": [
    "# Skipgram"
   ]
  },
  {
   "cell_type": "code",
   "execution_count": 225,
   "metadata": {},
   "outputs": [
    {
     "data": {
      "text/plain": [
       "'какой мужчина искать женщина впихнуть хотеть нужный услуга'"
      ]
     },
     "execution_count": 225,
     "metadata": {},
     "output_type": "execute_result"
    }
   ],
   "source": [
    "' '.join(sample_text)"
   ]
  },
  {
   "cell_type": "markdown",
   "metadata": {},
   "source": [
    "# Реализуйте разделение предложения на примеры методом Skipgram"
   ]
  },
  {
   "cell_type": "code",
   "execution_count": 226,
   "metadata": {},
   "outputs": [],
   "source": [
    "def skipgram_split(tokens, window):\n",
    "    \n",
    "    splits = []\n",
    "    \n",
    "    for word in enumerate(tokens):\n",
    "        for i in range(window):\n",
    "            if (word[0] - i) > 0:\n",
    "                token_left = tokens[word[0] - i - 1]\n",
    "                splits.append((token_left, word[1]))\n",
    "            try:\n",
    "                token_right = tokens[word[0] + i + 1]\n",
    "                splits.append((token_right, word[1]))\n",
    "            except:\n",
    "                pass\n",
    "    \n",
    "    return splits"
   ]
  },
  {
   "cell_type": "code",
   "execution_count": 227,
   "metadata": {},
   "outputs": [],
   "source": [
    "splits = skipgram_split(sample_text, window=2)"
   ]
  },
  {
   "cell_type": "code",
   "execution_count": 228,
   "metadata": {},
   "outputs": [
    {
     "ename": "SyntaxError",
     "evalue": "invalid syntax (1885269162.py, line 1)",
     "output_type": "error",
     "traceback": [
      "\u001b[0;36m  File \u001b[0;32m\"/var/folders/z7/mmsd2bmx6msfd_cp6t9bprx00000gn/T/ipykernel_14212/1885269162.py\"\u001b[0;36m, line \u001b[0;32m1\u001b[0m\n\u001b[0;31m    вопрос почему например китайский японский UNK\u001b[0m\n\u001b[0m           ^\u001b[0m\n\u001b[0;31mSyntaxError\u001b[0m\u001b[0;31m:\u001b[0m invalid syntax\n"
     ]
    }
   ],
   "source": [
    "вопрос почему например китайский японский UNK"
   ]
  },
  {
   "cell_type": "code",
   "execution_count": 229,
   "metadata": {},
   "outputs": [
    {
     "name": "stdout",
     "output_type": "stream",
     "text": [
      "Контекст: мужчина\n",
      "Центральное слово: какой\n",
      "\n",
      "Контекст: искать\n",
      "Центральное слово: какой\n",
      "\n",
      "Контекст: какой\n",
      "Центральное слово: мужчина\n",
      "\n",
      "Контекст: искать\n",
      "Центральное слово: мужчина\n",
      "\n",
      "Контекст: женщина\n",
      "Центральное слово: мужчина\n",
      "\n",
      "Контекст: мужчина\n",
      "Центральное слово: искать\n",
      "\n",
      "Контекст: женщина\n",
      "Центральное слово: искать\n",
      "\n",
      "Контекст: какой\n",
      "Центральное слово: искать\n",
      "\n",
      "Контекст: впихнуть\n",
      "Центральное слово: искать\n",
      "\n",
      "Контекст: искать\n",
      "Центральное слово: женщина\n",
      "\n",
      "Контекст: впихнуть\n",
      "Центральное слово: женщина\n",
      "\n",
      "Контекст: мужчина\n",
      "Центральное слово: женщина\n",
      "\n",
      "Контекст: хотеть\n",
      "Центральное слово: женщина\n",
      "\n",
      "Контекст: женщина\n",
      "Центральное слово: впихнуть\n",
      "\n",
      "Контекст: хотеть\n",
      "Центральное слово: впихнуть\n",
      "\n",
      "Контекст: искать\n",
      "Центральное слово: впихнуть\n",
      "\n",
      "Контекст: нужный\n",
      "Центральное слово: впихнуть\n",
      "\n",
      "Контекст: впихнуть\n",
      "Центральное слово: хотеть\n",
      "\n",
      "Контекст: нужный\n",
      "Центральное слово: хотеть\n",
      "\n",
      "Контекст: женщина\n",
      "Центральное слово: хотеть\n",
      "\n",
      "Контекст: услуга\n",
      "Центральное слово: хотеть\n",
      "\n",
      "Контекст: хотеть\n",
      "Центральное слово: нужный\n",
      "\n",
      "Контекст: услуга\n",
      "Центральное слово: нужный\n",
      "\n",
      "Контекст: впихнуть\n",
      "Центральное слово: нужный\n",
      "\n",
      "Контекст: нужный\n",
      "Центральное слово: услуга\n",
      "\n",
      "Контекст: хотеть\n",
      "Центральное слово: услуга\n",
      "\n"
     ]
    }
   ],
   "source": [
    "for sample in splits:\n",
    "    print('Контекст:', sample[0])\n",
    "    print('Центральное слово:', sample[1], end='\\n\\n')"
   ]
  },
  {
   "cell_type": "code",
   "execution_count": 230,
   "metadata": {},
   "outputs": [
    {
     "name": "stdout",
     "output_type": "stream",
     "text": [
      "Контекст: мужчина\n",
      "Центральное слово: какой\n",
      "\n",
      "Контекст: искать\n",
      "Центральное слово: какой\n",
      "\n",
      "Контекст: какой\n",
      "Центральное слово: мужчина\n",
      "\n",
      "Контекст: искать\n",
      "Центральное слово: мужчина\n",
      "\n",
      "Контекст: женщина\n",
      "Центральное слово: мужчина\n",
      "\n",
      "Контекст: мужчина\n",
      "Центральное слово: искать\n",
      "\n",
      "Контекст: женщина\n",
      "Центральное слово: искать\n",
      "\n",
      "Контекст: какой\n",
      "Центральное слово: искать\n",
      "\n",
      "Контекст: впихнуть\n",
      "Центральное слово: искать\n",
      "\n",
      "Контекст: искать\n",
      "Центральное слово: женщина\n",
      "\n",
      "Контекст: впихнуть\n",
      "Центральное слово: женщина\n",
      "\n",
      "Контекст: мужчина\n",
      "Центральное слово: женщина\n",
      "\n",
      "Контекст: хотеть\n",
      "Центральное слово: женщина\n",
      "\n",
      "Контекст: женщина\n",
      "Центральное слово: впихнуть\n",
      "\n",
      "Контекст: хотеть\n",
      "Центральное слово: впихнуть\n",
      "\n",
      "Контекст: искать\n",
      "Центральное слово: впихнуть\n",
      "\n",
      "Контекст: нужный\n",
      "Центральное слово: впихнуть\n",
      "\n",
      "Контекст: впихнуть\n",
      "Центральное слово: хотеть\n",
      "\n",
      "Контекст: нужный\n",
      "Центральное слово: хотеть\n",
      "\n",
      "Контекст: женщина\n",
      "Центральное слово: хотеть\n",
      "\n",
      "Контекст: услуга\n",
      "Центральное слово: хотеть\n",
      "\n",
      "Контекст: хотеть\n",
      "Центральное слово: нужный\n",
      "\n",
      "Контекст: услуга\n",
      "Центральное слово: нужный\n",
      "\n",
      "Контекст: впихнуть\n",
      "Центральное слово: нужный\n",
      "\n",
      "Контекст: нужный\n",
      "Центральное слово: услуга\n",
      "\n",
      "Контекст: хотеть\n",
      "Центральное слово: услуга\n",
      "\n"
     ]
    }
   ],
   "source": [
    "for sample in splits:\n",
    "    print('Контекст:', sample[0])\n",
    "    print('Центральное слово:', sample[1], end='\\n\\n')"
   ]
  },
  {
   "cell_type": "code",
   "execution_count": 231,
   "metadata": {},
   "outputs": [
    {
     "data": {
      "text/plain": [
       "[('мужчина', 'какой'),\n",
       " ('искать', 'какой'),\n",
       " ('какой', 'мужчина'),\n",
       " ('искать', 'мужчина'),\n",
       " ('женщина', 'мужчина'),\n",
       " ('мужчина', 'искать'),\n",
       " ('женщина', 'искать'),\n",
       " ('какой', 'искать'),\n",
       " ('впихнуть', 'искать'),\n",
       " ('искать', 'женщина'),\n",
       " ('впихнуть', 'женщина'),\n",
       " ('мужчина', 'женщина'),\n",
       " ('хотеть', 'женщина'),\n",
       " ('женщина', 'впихнуть'),\n",
       " ('хотеть', 'впихнуть'),\n",
       " ('искать', 'впихнуть'),\n",
       " ('нужный', 'впихнуть'),\n",
       " ('впихнуть', 'хотеть'),\n",
       " ('нужный', 'хотеть'),\n",
       " ('женщина', 'хотеть'),\n",
       " ('услуга', 'хотеть'),\n",
       " ('хотеть', 'нужный'),\n",
       " ('услуга', 'нужный'),\n",
       " ('впихнуть', 'нужный'),\n",
       " ('нужный', 'услуга'),\n",
       " ('хотеть', 'услуга')]"
      ]
     },
     "execution_count": 231,
     "metadata": {},
     "output_type": "execute_result"
    }
   ],
   "source": [
    "skipgram_split(sample_text, window=2)"
   ]
  },
  {
   "cell_type": "markdown",
   "metadata": {},
   "source": [
    "# Expected\n",
    "\n",
    "```python\n",
    "[('почему', 'вопрос'),\n",
    " ('например', 'вопрос'),\n",
    " ('вопрос', 'почему'),\n",
    " ('например', 'почему'),\n",
    " ('китайский', 'почему'),\n",
    " ('вопрос', 'например'),\n",
    " ('почему', 'например'),\n",
    " ('китайский', 'например'),\n",
    " ('японский', 'например'),\n",
    " ('почему', 'китайский'),\n",
    " ('например', 'китайский'),\n",
    " ('японский', 'китайский'),\n",
    " ('UNK', 'китайский'),\n",
    " ('например', 'японский'),\n",
    " ('китайский', 'японский'),\n",
    " ('UNK', 'японский'),\n",
    " ('китайский', 'UNK'),\n",
    " ('японский', 'UNK')]\n",
    "```"
   ]
  },
  {
   "cell_type": "code",
   "execution_count": 232,
   "metadata": {},
   "outputs": [
    {
     "data": {
      "text/plain": [
       "[('мужчина', 'какой'),\n",
       " ('искать', 'какой'),\n",
       " ('женщина', 'какой'),\n",
       " ('какой', 'мужчина'),\n",
       " ('искать', 'мужчина'),\n",
       " ('женщина', 'мужчина'),\n",
       " ('впихнуть', 'мужчина'),\n",
       " ('мужчина', 'искать'),\n",
       " ('женщина', 'искать'),\n",
       " ('какой', 'искать'),\n",
       " ('впихнуть', 'искать'),\n",
       " ('хотеть', 'искать'),\n",
       " ('искать', 'женщина'),\n",
       " ('впихнуть', 'женщина'),\n",
       " ('мужчина', 'женщина'),\n",
       " ('хотеть', 'женщина'),\n",
       " ('какой', 'женщина'),\n",
       " ('нужный', 'женщина'),\n",
       " ('женщина', 'впихнуть'),\n",
       " ('хотеть', 'впихнуть'),\n",
       " ('искать', 'впихнуть'),\n",
       " ('нужный', 'впихнуть'),\n",
       " ('мужчина', 'впихнуть'),\n",
       " ('услуга', 'впихнуть'),\n",
       " ('впихнуть', 'хотеть'),\n",
       " ('нужный', 'хотеть'),\n",
       " ('женщина', 'хотеть'),\n",
       " ('услуга', 'хотеть'),\n",
       " ('искать', 'хотеть'),\n",
       " ('хотеть', 'нужный'),\n",
       " ('услуга', 'нужный'),\n",
       " ('впихнуть', 'нужный'),\n",
       " ('женщина', 'нужный'),\n",
       " ('нужный', 'услуга'),\n",
       " ('хотеть', 'услуга'),\n",
       " ('впихнуть', 'услуга')]"
      ]
     },
     "execution_count": 232,
     "metadata": {},
     "output_type": "execute_result"
    }
   ],
   "source": [
    "skipgram_split(sample_text, window=3)"
   ]
  },
  {
   "cell_type": "markdown",
   "metadata": {},
   "source": [
    "# Expected\n",
    "\n",
    "```python\n",
    "[('почему', 'вопрос'),\n",
    " ('например', 'вопрос'),\n",
    " ('китайский', 'вопрос'),\n",
    " ('вопрос', 'почему'),\n",
    " ('например', 'почему'),\n",
    " ('китайский', 'почему'),\n",
    " ('японский', 'почему'),\n",
    " ('вопрос', 'например'),\n",
    " ('почему', 'например'),\n",
    " ('китайский', 'например'),\n",
    " ('японский', 'например'),\n",
    " ('UNK', 'например'),\n",
    " ('вопрос', 'китайский'),\n",
    " ('почему', 'китайский'),\n",
    " ('например', 'китайский'),\n",
    " ('японский', 'китайский'),\n",
    " ('UNK', 'китайский'),\n",
    " ('почему', 'японский'),\n",
    " ('например', 'японский'),\n",
    " ('китайский', 'японский'),\n",
    " ('UNK', 'японский'),\n",
    " ('например', 'UNK'),\n",
    " ('китайский', 'UNK'),\n",
    " ('японский', 'UNK')]\n",
    "```"
   ]
  },
  {
   "cell_type": "code",
   "execution_count": 233,
   "metadata": {},
   "outputs": [],
   "source": [
    "word2index = {}\n",
    "\n",
    "for text in corpus:\n",
    "    for token in text:\n",
    "        if token not in word2index:\n",
    "            word2index[token] = len(word2index)"
   ]
  },
  {
   "cell_type": "code",
   "execution_count": 234,
   "metadata": {},
   "outputs": [
    {
     "data": {
      "text/plain": [
       "16311"
      ]
     },
     "execution_count": 234,
     "metadata": {},
     "output_type": "execute_result"
    }
   ],
   "source": [
    "len(word2index)"
   ]
  },
  {
   "cell_type": "code",
   "execution_count": 235,
   "metadata": {},
   "outputs": [
    {
     "data": {
      "text/plain": [
       "158"
      ]
     },
     "execution_count": 235,
     "metadata": {},
     "output_type": "execute_result"
    }
   ],
   "source": [
    "word2index['UNK']"
   ]
  },
  {
   "cell_type": "code",
   "execution_count": 236,
   "metadata": {},
   "outputs": [
    {
     "data": {
      "text/plain": [
       "[2095, 13710, 158]"
      ]
     },
     "execution_count": 236,
     "metadata": {},
     "output_type": "execute_result"
    }
   ],
   "source": [
    "[word2index[tok] if tok in word2index else word2index['UNK'] for tok in 'мама мыть рама'.split()]"
   ]
  },
  {
   "cell_type": "code",
   "execution_count": 237,
   "metadata": {},
   "outputs": [
    {
     "data": {
      "text/plain": [
       "[2095, 13710, 158]"
      ]
     },
     "execution_count": 237,
     "metadata": {},
     "output_type": "execute_result"
    }
   ],
   "source": [
    "[word2index[tok] if tok in word2index else word2index['UNK'] for tok in 'мама мыть рама'.split()]"
   ]
  },
  {
   "cell_type": "markdown",
   "metadata": {},
   "source": [
    "# Torch Dataset\n",
    "В торче есть очень удобная читалка данных"
   ]
  },
  {
   "cell_type": "code",
   "execution_count": 238,
   "metadata": {},
   "outputs": [],
   "source": [
    "from torch.utils.data import Dataset, DataLoader"
   ]
  },
  {
   "cell_type": "code",
   "execution_count": 239,
   "metadata": {},
   "outputs": [],
   "source": [
    "# игрушечный датасет\n",
    "# 121535 примера, 4 фичи, 3 класса\n",
    "some_data_x = np.random.rand(121535, 4)\n",
    "some_data_y = np.random.randint(3, size=(121535,))"
   ]
  },
  {
   "cell_type": "code",
   "execution_count": 240,
   "metadata": {},
   "outputs": [
    {
     "data": {
      "text/plain": [
       "array([[0.16462021, 0.95360952, 0.77728116, 0.26892962],\n",
       "       [0.60687896, 0.88726017, 0.46366543, 0.34420933],\n",
       "       [0.58779901, 0.48789286, 0.35729032, 0.12010267],\n",
       "       [0.88588275, 0.50246001, 0.17039422, 0.905358  ],\n",
       "       [0.08304003, 0.44898468, 0.68286037, 0.04710905],\n",
       "       [0.35591772, 0.30534409, 0.89992887, 0.93106057],\n",
       "       [0.56575448, 0.83829762, 0.32051827, 0.95572265],\n",
       "       [0.42518288, 0.87467482, 0.02828927, 0.79773618],\n",
       "       [0.90927306, 0.98711516, 0.96195912, 0.48698714],\n",
       "       [0.75401462, 0.14424951, 0.78349292, 0.10998376]])"
      ]
     },
     "execution_count": 240,
     "metadata": {},
     "output_type": "execute_result"
    }
   ],
   "source": [
    "# соверешенно игрушечный, просто цифры\n",
    "some_data_x[:10]"
   ]
  },
  {
   "cell_type": "code",
   "execution_count": 241,
   "metadata": {},
   "outputs": [
    {
     "data": {
      "text/plain": [
       "array([0, 0, 0, ..., 0, 1, 2])"
      ]
     },
     "execution_count": 241,
     "metadata": {},
     "output_type": "execute_result"
    }
   ],
   "source": [
    "some_data_y"
   ]
  },
  {
   "cell_type": "code",
   "execution_count": 242,
   "metadata": {},
   "outputs": [],
   "source": [
    "class ToyDataset(Dataset):\n",
    "    \n",
    "    def __init__(self, data_x, data_y):\n",
    "        \n",
    "        super().__init__()\n",
    "        \n",
    "        self.data_x = data_x\n",
    "        self.data_y = data_y\n",
    "        \n",
    "    def __len__(self):\n",
    "        \n",
    "        # Нужно обязательно определить эту функцию\n",
    "        # Должна возвращать размер датасета\n",
    "        \n",
    "        return len(self.data_x)\n",
    "    \n",
    "    def __getitem__(self, idx):\n",
    "        \n",
    "        # Еще нужно определить этот метод\n",
    "        # То есть как мы будем доставать наши данные по индексу\n",
    "        \n",
    "        return self.data_x[idx], self.data_y[idx]"
   ]
  },
  {
   "cell_type": "code",
   "execution_count": 243,
   "metadata": {},
   "outputs": [],
   "source": [
    "some_dataset = ToyDataset(some_data_x, some_data_y)"
   ]
  },
  {
   "cell_type": "code",
   "execution_count": 244,
   "metadata": {},
   "outputs": [
    {
     "data": {
      "text/plain": [
       "((array([0.35591772, 0.30534409, 0.89992887, 0.93106057]), 2),\n",
       " (array([0.14017649, 0.33727407, 0.15517331, 0.56464907]), 1))"
      ]
     },
     "execution_count": 244,
     "metadata": {},
     "output_type": "execute_result"
    }
   ],
   "source": [
    "some_dataset[5], some_dataset[467]"
   ]
  },
  {
   "cell_type": "code",
   "execution_count": 245,
   "metadata": {},
   "outputs": [],
   "source": [
    "some_loader = DataLoader(some_dataset, batch_size=16, shuffle=True)"
   ]
  },
  {
   "cell_type": "code",
   "execution_count": 246,
   "metadata": {},
   "outputs": [
    {
     "data": {
      "text/plain": [
       "(16,\n",
       " tensor([[0.2734, 0.2831, 0.7594, 0.2757],\n",
       "         [0.9911, 0.2871, 0.2798, 0.8025],\n",
       "         [0.9172, 0.9051, 0.3431, 0.5066],\n",
       "         [0.4395, 0.3800, 0.6703, 0.7336],\n",
       "         [0.6940, 0.1024, 0.6827, 0.1168],\n",
       "         [0.0254, 0.3371, 0.7444, 0.5170],\n",
       "         [0.7570, 0.4509, 0.7008, 0.2603],\n",
       "         [0.4389, 0.1661, 0.3126, 0.5407],\n",
       "         [0.4136, 0.1372, 0.3954, 0.1315],\n",
       "         [0.7083, 0.9165, 0.8581, 0.8223],\n",
       "         [0.7985, 0.1187, 0.4382, 0.1037],\n",
       "         [0.2546, 0.0239, 0.0875, 0.7834],\n",
       "         [0.4632, 0.3844, 0.6584, 0.9379],\n",
       "         [0.7294, 0.6276, 0.7953, 0.8727],\n",
       "         [0.8277, 0.3143, 0.4524, 0.5814],\n",
       "         [0.3575, 0.4462, 0.3606, 0.5915]], dtype=torch.float64))"
      ]
     },
     "execution_count": 246,
     "metadata": {},
     "output_type": "execute_result"
    }
   ],
   "source": [
    "for x, y in some_loader:\n",
    "    break\n",
    "    \n",
    "len(x), x"
   ]
  },
  {
   "cell_type": "code",
   "execution_count": 247,
   "metadata": {},
   "outputs": [
    {
     "data": {
      "text/plain": [
       "15"
      ]
     },
     "execution_count": 247,
     "metadata": {},
     "output_type": "execute_result"
    }
   ],
   "source": [
    "for x, y in some_loader:\n",
    "    pass\n",
    "\n",
    "len(x)"
   ]
  },
  {
   "cell_type": "code",
   "execution_count": 248,
   "metadata": {},
   "outputs": [
    {
     "data": {
      "text/plain": [
       "15"
      ]
     },
     "execution_count": 248,
     "metadata": {},
     "output_type": "execute_result"
    }
   ],
   "source": [
    "# почему 13?\n",
    "# потому что количество наших данных нацело не делится на 16\n",
    "# и поэтому последний батч меньше 16-ти\n",
    "len(some_dataset) % 16"
   ]
  },
  {
   "cell_type": "markdown",
   "metadata": {},
   "source": [
    "# А зачем?"
   ]
  },
  {
   "cell_type": "code",
   "execution_count": 249,
   "metadata": {},
   "outputs": [],
   "source": [
    "class ToyDataset(Dataset):\n",
    "    \n",
    "    def __init__(self, data_x, data_y):\n",
    "        \n",
    "        super().__init__()\n",
    "        \n",
    "        self.data_x = data_x\n",
    "        self.data_y = data_y\n",
    "        \n",
    "    def __len__(self):\n",
    "        \n",
    "        # Нужно обязательно определить эту функцию\n",
    "        # Должна возвращать размер датасета\n",
    "        \n",
    "        return len(self.data_x)\n",
    "    \n",
    "    @staticmethod\n",
    "    def add_pow_features(x, n=2):\n",
    "        \n",
    "        return np.concatenate([x, x ** n]) \n",
    "    \n",
    "    @staticmethod\n",
    "    def add_log_features(x):\n",
    "        \n",
    "        return np.concatenate([x, np.log(x)]) \n",
    "    \n",
    "    def __getitem__(self, idx):\n",
    "        \n",
    "        # Еще нужно определить этот метод\n",
    "        # То есть как мы будем доставать наши данные по индексу\n",
    "        \n",
    "        x = self.data_x[idx]\n",
    "        \n",
    "        # внутри датасета мы можем делать все что угодно с нашими данными\n",
    "        # например выше определим функции, которые добавляют степенные фичи\n",
    "        x = self.add_pow_features(x, n=2)\n",
    "        x = self.add_pow_features(x, n=3)\n",
    "        # и еще возьмем логарифмические фичи\n",
    "        x = self.add_log_features(x)\n",
    "        \n",
    "        y = self.data_y[idx]\n",
    "        \n",
    "        return x, y"
   ]
  },
  {
   "cell_type": "code",
   "execution_count": 250,
   "metadata": {},
   "outputs": [],
   "source": [
    "toy_dataset = ToyDataset(some_data_x, some_data_y)"
   ]
  },
  {
   "cell_type": "code",
   "execution_count": 251,
   "metadata": {},
   "outputs": [],
   "source": [
    "toy_loader = DataLoader(dataset=toy_dataset, batch_size=128)"
   ]
  },
  {
   "cell_type": "code",
   "execution_count": 252,
   "metadata": {},
   "outputs": [],
   "source": [
    "for x, y in toy_loader:\n",
    "    break"
   ]
  },
  {
   "cell_type": "code",
   "execution_count": 253,
   "metadata": {},
   "outputs": [
    {
     "data": {
      "text/plain": [
       "torch.Size([128, 32])"
      ]
     },
     "execution_count": 253,
     "metadata": {},
     "output_type": "execute_result"
    }
   ],
   "source": [
    "x.shape"
   ]
  },
  {
   "cell_type": "code",
   "execution_count": 254,
   "metadata": {},
   "outputs": [
    {
     "data": {
      "text/plain": [
       "tensor([[  0.1646,   0.9536,   0.7773,  ...,  -0.2850,  -1.5117,  -7.8798],\n",
       "        [  0.6069,   0.8873,   0.4637,  ...,  -0.7177,  -4.6116,  -6.3990],\n",
       "        [  0.5878,   0.4879,   0.3573,  ...,  -4.3060,  -6.1752, -12.7164],\n",
       "        ...,\n",
       "        [  0.4853,   0.4090,   0.9201,  ...,  -5.3637,  -0.4996,  -8.1277],\n",
       "        [  0.3564,   0.0311,   0.8815,  ..., -20.8170,  -0.7565, -17.7197],\n",
       "        [  0.2304,   0.5448,   0.3232,  ...,  -3.6439,  -6.7762, -14.2695]],\n",
       "       dtype=torch.float64)"
      ]
     },
     "execution_count": 254,
     "metadata": {},
     "output_type": "execute_result"
    }
   ],
   "source": [
    "# заметим, что мы сразу получаем торчовый формат данных\n",
    "x"
   ]
  },
  {
   "cell_type": "code",
   "execution_count": 255,
   "metadata": {},
   "outputs": [
    {
     "data": {
      "text/plain": [
       "tensor([0, 0, 0, 0, 1, 2, 0, 1, 0, 0, 1, 2, 1, 0, 0, 0, 1, 2, 0, 1, 1, 2, 1, 1,\n",
       "        1, 1, 0, 0, 0, 2, 2, 0, 2, 2, 1, 1, 1, 1, 1, 1, 1, 2, 0, 0, 1, 1, 0, 1,\n",
       "        2, 0, 1, 1, 1, 1, 0, 1, 2, 2, 1, 2, 1, 2, 1, 1, 2, 0, 1, 0, 0, 0, 2, 2,\n",
       "        2, 1, 0, 0, 1, 1, 2, 1, 1, 2, 1, 0, 2, 1, 1, 1, 1, 1, 2, 0, 1, 0, 0, 1,\n",
       "        2, 1, 2, 0, 1, 0, 2, 1, 0, 2, 0, 0, 2, 2, 2, 1, 2, 2, 1, 2, 0, 1, 2, 0,\n",
       "        0, 1, 2, 0, 0, 2, 1, 0])"
      ]
     },
     "execution_count": 255,
     "metadata": {},
     "output_type": "execute_result"
    }
   ],
   "source": [
    "y"
   ]
  },
  {
   "cell_type": "markdown",
   "metadata": {},
   "source": [
    "# Если вы ничего здесь не понимаете, то вернитесь в конец первой домашки, там все объясняется"
   ]
  },
  {
   "cell_type": "code",
   "execution_count": 256,
   "metadata": {},
   "outputs": [],
   "source": [
    "model = torch.nn.Sequential(torch.nn.Linear(32, 16),\n",
    "                            torch.nn.ReLU(),\n",
    "                            torch.nn.Linear(16, 8),\n",
    "                            torch.nn.ReLU(),\n",
    "                            torch.nn.Linear(8, 3))\n",
    "\n",
    "criterion = torch.nn.CrossEntropyLoss()"
   ]
  },
  {
   "cell_type": "code",
   "execution_count": 257,
   "metadata": {},
   "outputs": [
    {
     "data": {
      "text/plain": [
       "1.1028050184249878"
      ]
     },
     "execution_count": 257,
     "metadata": {},
     "output_type": "execute_result"
    }
   ],
   "source": [
    "with torch.no_grad():\n",
    "\n",
    "    prediction = model(x.float())\n",
    "\n",
    "    loss = criterion(prediction, y)\n",
    "    \n",
    "loss.item()"
   ]
  },
  {
   "cell_type": "markdown",
   "metadata": {},
   "source": [
    "# Боевые датасеты"
   ]
  },
  {
   "cell_type": "code",
   "execution_count": 258,
   "metadata": {},
   "outputs": [],
   "source": [
    "class CBOWDataset(Dataset):\n",
    "\n",
    "    def __init__(self,\n",
    "                 corpus,\n",
    "                 word2index,\n",
    "                 window=2,\n",
    "                 unk_token='UNK',\n",
    "                 pad_token='PAD',\n",
    "                 collect_verbose=True):\n",
    "\n",
    "        self.corpus = corpus\n",
    "        self.word2index = word2index\n",
    "        self.index2word = {value: key for key, value in self.word2index.items()}\n",
    "        self.window = window\n",
    "\n",
    "        self.unk_token = unk_token\n",
    "        self.unk_index = self.word2index[self.unk_token]\n",
    "\n",
    "        self.pad_token = pad_token\n",
    "        self.pad_index = len(self.word2index)\n",
    "\n",
    "        self.collect_verbose = collect_verbose\n",
    "\n",
    "        self.data = []\n",
    "\n",
    "        self.collect_data()\n",
    "\n",
    "    def __len__(self):\n",
    "\n",
    "        return len(self.data)\n",
    "\n",
    "    def _split_function(self, tokenized_text):\n",
    "\n",
    "        splits = []\n",
    "\n",
    "        for n in range(len(tokenized_text)):\n",
    "            left_context = tokenized_text[np.maximum(n - self.window, 0):n]\n",
    "            left_context = ([self.pad_index] * (self.window - len(left_context))) + left_context\n",
    "\n",
    "            central_word = tokenized_text[n]\n",
    "\n",
    "            right_context = tokenized_text[n + 1:n + self.window + 1]\n",
    "            right_context = right_context + ([self.pad_index] * (self.window - len(right_context)))\n",
    "\n",
    "            splits.append((left_context + right_context, central_word))\n",
    "\n",
    "        return splits\n",
    "\n",
    "    def indexing(self, tokenized_text):\n",
    "\n",
    "        return [self.word2index[token] if token in self.word2index else self.unk_index for token in tokenized_text]\n",
    "\n",
    "    def collect_data(self):\n",
    "\n",
    "        corpus = tqdm(self.corpus, disable=not self.collect_verbose)\n",
    "\n",
    "        for tokenized_text in corpus:\n",
    "            indexed_text = self.indexing(tokenized_text)\n",
    "            cbow_examples = self._split_function(indexed_text)\n",
    "\n",
    "            self.data.extend(cbow_examples)\n",
    "\n",
    "    def __getitem__(self, idx):\n",
    "\n",
    "        context, central_word = self.data[idx]\n",
    "\n",
    "        context = torch.Tensor(context).long()\n",
    "\n",
    "        return context, central_word"
   ]
  },
  {
   "cell_type": "markdown",
   "metadata": {},
   "source": [
    "# Мы будем учить модель Skipgram\n",
    "Реализуйте читалку данных"
   ]
  },
  {
   "cell_type": "code",
   "execution_count": 259,
   "metadata": {},
   "outputs": [],
   "source": [
    "class SkipgramDataset(Dataset):\n",
    "\n",
    "    def __init__(self,\n",
    "                 corpus,\n",
    "                 word2index,\n",
    "                 window=2,\n",
    "                 unk_token='UNK',\n",
    "                 collect_verbose=True):\n",
    "\n",
    "        self.corpus = corpus\n",
    "        self.word2index = word2index\n",
    "        self.index2word = {value: key for key, value in self.word2index.items()}\n",
    "        self.window = window\n",
    "\n",
    "        self.unk_token = unk_token\n",
    "        self.unk_index = self.word2index[self.unk_token]\n",
    "\n",
    "        self.collect_verbose = collect_verbose\n",
    "\n",
    "        self.data = []\n",
    "\n",
    "        self.collect_data()\n",
    "\n",
    "    def __len__(self):\n",
    "\n",
    "        return len(self.data)\n",
    "\n",
    "    def _split_function(self, tokens):\n",
    "        splits = []\n",
    "\n",
    "        for word in enumerate(tokens):\n",
    "            for i in range(self.window):\n",
    "                if (word[0] - i) > 0:\n",
    "                    token_left = tokens[word[0] - i - 1]\n",
    "                    splits.append((token_left, word[1]))\n",
    "                try:\n",
    "                    token_right = tokens[word[0] + i + 1]\n",
    "                    splits.append((token_right, word[1]))\n",
    "                except:\n",
    "                    pass\n",
    "\n",
    "        return splits\n",
    "\n",
    "    def indexing(self, tokenized_text):\n",
    "\n",
    "        return [self.word2index[token] if token in self.word2index else self.unk_index for token in tokenized_text]\n",
    "\n",
    "    def collect_data(self):\n",
    "\n",
    "        corpus = tqdm(self.corpus, disable=not self.collect_verbose)\n",
    "\n",
    "        for tokenized_text in corpus:\n",
    "            indexed_text = self.indexing(tokenized_text)\n",
    "            skipgram_examples = self._split_function(indexed_text)\n",
    "\n",
    "            self.data.extend(skipgram_examples)\n",
    "\n",
    "    def __getitem__(self, idx):\n",
    "        \n",
    "        context, central_word = self.data[idx]\n",
    "\n",
    "        return context, central_word"
   ]
  },
  {
   "cell_type": "code",
   "execution_count": 260,
   "metadata": {},
   "outputs": [],
   "source": [
    "# можете положить SkipgramDataset в отдельный файлик, например word2vec_utils и относительным импортом достать его \n",
    "#from .word2vec_utils import SkipgramDataset"
   ]
  },
  {
   "cell_type": "code",
   "execution_count": 261,
   "metadata": {
    "scrolled": false
   },
   "outputs": [
    {
     "name": "stderr",
     "output_type": "stream",
     "text": [
      "100%|████████████████████████████████| 200000/200000 [00:04<00:00, 49602.03it/s]\n"
     ]
    }
   ],
   "source": [
    "dataset = SkipgramDataset(corpus, word2index)"
   ]
  },
  {
   "cell_type": "code",
   "execution_count": 262,
   "metadata": {},
   "outputs": [],
   "source": [
    "BATCH_SIZE = 512"
   ]
  },
  {
   "cell_type": "code",
   "execution_count": 263,
   "metadata": {},
   "outputs": [],
   "source": [
    "dataset_loader = DataLoader(dataset, shuffle=True, batch_size=BATCH_SIZE)"
   ]
  },
  {
   "cell_type": "code",
   "execution_count": 264,
   "metadata": {},
   "outputs": [
    {
     "data": {
      "text/plain": [
       "<torch.utils.data.dataloader.DataLoader at 0x7faf71796520>"
      ]
     },
     "execution_count": 264,
     "metadata": {},
     "output_type": "execute_result"
    }
   ],
   "source": [
    "dataset_loader"
   ]
  },
  {
   "cell_type": "code",
   "execution_count": 265,
   "metadata": {},
   "outputs": [],
   "source": [
    "for x, y in dataset_loader:\n",
    "    break"
   ]
  },
  {
   "cell_type": "code",
   "execution_count": 266,
   "metadata": {
    "scrolled": true
   },
   "outputs": [
    {
     "data": {
      "text/plain": [
       "tensor([ 827, 1183, 4377, 3541, 3276])"
      ]
     },
     "execution_count": 266,
     "metadata": {},
     "output_type": "execute_result"
    }
   ],
   "source": [
    "x[:5]"
   ]
  },
  {
   "cell_type": "code",
   "execution_count": 267,
   "metadata": {},
   "outputs": [
    {
     "data": {
      "text/plain": [
       "tensor([1776,  963, 4551, 1655,  210])"
      ]
     },
     "execution_count": 267,
     "metadata": {},
     "output_type": "execute_result"
    }
   ],
   "source": [
    "y[:5]"
   ]
  },
  {
   "cell_type": "code",
   "execution_count": 268,
   "metadata": {
    "scrolled": true
   },
   "outputs": [
    {
     "data": {
      "text/plain": [
       "(torch.Size([512]), torch.Size([512]))"
      ]
     },
     "execution_count": 268,
     "metadata": {},
     "output_type": "execute_result"
    }
   ],
   "source": [
    "x.shape, y.shape"
   ]
  },
  {
   "cell_type": "code",
   "execution_count": 269,
   "metadata": {},
   "outputs": [],
   "source": [
    "class CBOW(torch.nn.Module):\n",
    "    \n",
    "    def __init__(self, vocab_size, embedding_dim, pad_index):\n",
    "        \n",
    "        super().__init__()\n",
    "        \n",
    "        if pad_index > 0:\n",
    "            vocab_size += 1\n",
    "        \n",
    "        self.in_embedding = torch.nn.Embedding(num_embeddings=vocab_size, \n",
    "                                               embedding_dim=embedding_dim,\n",
    "                                               padding_idx=pad_index)\n",
    "        \n",
    "        self.out_embedding = torch.nn.Linear(in_features=embedding_dim,\n",
    "                                             out_features=vocab_size, bias=False)\n",
    "        \n",
    "    def forward(self, x):\n",
    "        \n",
    "        x = self.in_embedding(x).sum(dim=-2)\n",
    "        x = self.out_embedding(x)\n",
    "        \n",
    "        return x"
   ]
  },
  {
   "cell_type": "markdown",
   "metadata": {},
   "source": [
    "# Мы будем учить модель Skipgram\n",
    "Реализуйте ее"
   ]
  },
  {
   "cell_type": "code",
   "execution_count": 270,
   "metadata": {},
   "outputs": [],
   "source": [
    "import torch\n",
    "from torch.autograd import Variable\n",
    "import torch.nn as nn\n",
    "import torch.nn.functional as F\n",
    "import numpy as np"
   ]
  },
  {
   "cell_type": "code",
   "execution_count": 271,
   "metadata": {},
   "outputs": [],
   "source": [
    "# CODE\n",
    "class SkipGram(torch.nn.Module):\n",
    "    \n",
    "    def __init__(self, vocab_size, embedding_dim):\n",
    "        \n",
    "        super().__init__()\n",
    "        \n",
    "        self.in_embedding = torch.nn.Embedding(num_embeddings=vocab_size, \n",
    "                                               embedding_dim=embedding_dim)\n",
    "        \n",
    "        self.out_embedding = torch.nn.Linear(in_features=embedding_dim,\n",
    "                                             out_features=vocab_size, bias=False)\n",
    "        \n",
    "    def forward(self, x):\n",
    "        \n",
    "        x = self.in_embedding(x)\n",
    "        #.sum(dim=-2)\n",
    "        x = self.out_embedding(x)\n",
    "        \n",
    "        return x"
   ]
  },
  {
   "cell_type": "code",
   "execution_count": 272,
   "metadata": {},
   "outputs": [],
   "source": [
    "#from word2vec_utils import SkipGram"
   ]
  },
  {
   "cell_type": "markdown",
   "metadata": {},
   "source": [
    "### Увеличенная размерность эмбеддинга"
   ]
  },
  {
   "cell_type": "code",
   "execution_count": 273,
   "metadata": {},
   "outputs": [],
   "source": [
    "EMBEDDING_DIM = 50"
   ]
  },
  {
   "cell_type": "code",
   "execution_count": 274,
   "metadata": {
    "scrolled": false
   },
   "outputs": [],
   "source": [
    "model = SkipGram(vocab_size=len(word2index), embedding_dim=EMBEDDING_DIM)"
   ]
  },
  {
   "cell_type": "code",
   "execution_count": 275,
   "metadata": {},
   "outputs": [],
   "source": [
    "#model = CBOW(vocab_size=len(word2index), embedding_dim=EMBEDDING_DIM, pad_index=1)"
   ]
  },
  {
   "cell_type": "code",
   "execution_count": 276,
   "metadata": {
    "scrolled": true
   },
   "outputs": [
    {
     "data": {
      "text/plain": [
       "torch.Size([512, 16311])"
      ]
     },
     "execution_count": 276,
     "metadata": {},
     "output_type": "execute_result"
    }
   ],
   "source": [
    "with torch.no_grad():\n",
    "    pred = model(x)\n",
    "\n",
    "pred.shape"
   ]
  },
  {
   "cell_type": "code",
   "execution_count": 277,
   "metadata": {},
   "outputs": [
    {
     "data": {
      "text/plain": [
       "tensor([[ 0.4847, -0.1799, -0.7460,  ...,  1.1363,  1.0111, -0.9720],\n",
       "        [-0.5335,  0.1600, -0.2755,  ..., -0.1075, -0.8225,  0.5976],\n",
       "        [ 0.5342, -0.1621,  1.0438,  ..., -1.0606, -0.4615,  0.0559],\n",
       "        ...,\n",
       "        [-0.2465,  0.9440,  0.4596,  ..., -0.3843,  0.1122,  0.4061],\n",
       "        [-0.1210, -0.7189, -0.3066,  ..., -0.3908, -0.1262,  0.1986],\n",
       "        [ 0.2020,  0.3000, -0.7036,  ...,  0.4318, -1.2632, -0.0818]])"
      ]
     },
     "execution_count": 277,
     "metadata": {},
     "output_type": "execute_result"
    }
   ],
   "source": [
    "pred"
   ]
  },
  {
   "cell_type": "code",
   "execution_count": 278,
   "metadata": {},
   "outputs": [],
   "source": [
    "optimizer = torch.optim.Adam(params=model.parameters(), lr=0.0001)\n",
    "\n",
    "# aka loss function\n",
    "criterion = torch.nn.CrossEntropyLoss()"
   ]
  },
  {
   "cell_type": "markdown",
   "metadata": {},
   "source": [
    "# Допишите обучалку"
   ]
  },
  {
   "cell_type": "code",
   "execution_count": 279,
   "metadata": {},
   "outputs": [
    {
     "name": "stderr",
     "output_type": "stream",
     "text": [
      "Epoch 1: 5964800it [20:37, 4818.58it/s, loss=7.29]                              \n",
      "Epoch 2:  62%|██████▊    | 3696640/5964304 [12:40<07:46, 4861.51it/s, loss=7.16]\n"
     ]
    }
   ],
   "source": [
    "epochs = 3\n",
    "\n",
    "losses = []\n",
    "\n",
    "for n_epoch in range(epochs):\n",
    "\n",
    "    try:\n",
    "\n",
    "        progress_bar = tqdm(total=len(dataset_loader.dataset), desc='Epoch {}'.format(n_epoch + 1))\n",
    "\n",
    "        for x_train, y_train in dataset_loader:\n",
    "\n",
    "            # CODE\n",
    "            \n",
    "            y_pred = model(x_train)\n",
    "            loss = criterion(y_pred, y_train)\n",
    "            loss.backward()\n",
    "            optimizer.step()\n",
    "            #optimizer.zero_grad()\n",
    "            \n",
    "            #loss = # CODE\n",
    "            \n",
    "            # CODE\n",
    "            \n",
    "            losses.append(loss.item())\n",
    "            \n",
    "            progress_bar.set_postfix(loss=np.mean(losses[-100:]))\n",
    "\n",
    "            progress_bar.update(x.shape[0])\n",
    "\n",
    "        progress_bar.close()\n",
    "\n",
    "    except KeyboardInterrupt:\n",
    "\n",
    "        progress_bar.close()\n",
    "        break"
   ]
  },
  {
   "cell_type": "markdown",
   "metadata": {},
   "source": [
    "В какой-то момент на второй эпохе я прервала обучение, тк увидела, что лосс уже очень долгое время вообще не снижается и даже начал расти. Кажется, мы переобучились."
   ]
  },
  {
   "cell_type": "code",
   "execution_count": 280,
   "metadata": {
    "scrolled": true
   },
   "outputs": [
    {
     "data": {
      "text/plain": [
       "[<matplotlib.lines.Line2D at 0x7fae66ea9f10>]"
      ]
     },
     "execution_count": 280,
     "metadata": {},
     "output_type": "execute_result"
    },
    {
     "data": {
      "image/png": "[encoded data removed]",
      "text/plain": [
       "<Figure size 1080x1080 with 1 Axes>"
      ]
     },
     "metadata": {
      "needs_background": "light"
     },
     "output_type": "display_data"
    }
   ],
   "source": [
    "plt.title('SkipGram Training Process')\n",
    "plt.xlabel('Iterations')\n",
    "plt.ylabel('Loss')\n",
    "plt.grid()\n",
    "plt.plot(losses)"
   ]
  },
  {
   "cell_type": "code",
   "execution_count": 281,
   "metadata": {},
   "outputs": [],
   "source": [
    "# проверка, что хоть что-то выучилось\n",
    "assert np.mean(losses[-1000:]) < 7.5"
   ]
  },
  {
   "cell_type": "code",
   "execution_count": 282,
   "metadata": {},
   "outputs": [],
   "source": [
    "embedding_matrix = model.in_embedding.weight.detach()"
   ]
  },
  {
   "cell_type": "code",
   "execution_count": 283,
   "metadata": {},
   "outputs": [],
   "source": [
    "def cos_sim(embedding_matrix, token2id, word1, word2):\n",
    "    \n",
    "    i1 = token2id[word1]\n",
    "    i2 = token2id[word2]\n",
    "    \n",
    "    v1, v2 = embedding_matrix[i1], embedding_matrix[i2]\n",
    "    \n",
    "    v1_n = v1.div(v1.norm(keepdim=True))\n",
    "    v2_n = v2.div(v2.norm(keepdim=True))\n",
    "    \n",
    "    similarity = torch.dot(v1_n, v2_n).item()\n",
    "    \n",
    "    return similarity"
   ]
  },
  {
   "cell_type": "markdown",
   "metadata": {},
   "source": [
    "# Косинусная близость\n",
    "От 0 до 1, где 0 - вектора абсолютно разные, где 1 - идентичные."
   ]
  },
  {
   "cell_type": "code",
   "execution_count": 284,
   "metadata": {},
   "outputs": [
    {
     "data": {
      "text/plain": [
       "0.6460685729980469"
      ]
     },
     "execution_count": 284,
     "metadata": {},
     "output_type": "execute_result"
    }
   ],
   "source": [
    "cos_sim(embedding_matrix, word2index, 'день', 'месяц')"
   ]
  },
  {
   "cell_type": "code",
   "execution_count": 285,
   "metadata": {},
   "outputs": [
    {
     "data": {
      "text/plain": [
       "0.6311913728713989"
      ]
     },
     "execution_count": 285,
     "metadata": {},
     "output_type": "execute_result"
    }
   ],
   "source": [
    "cos_sim(embedding_matrix, word2index, 'минута', 'месяц')"
   ]
  },
  {
   "cell_type": "code",
   "execution_count": 286,
   "metadata": {},
   "outputs": [
    {
     "data": {
      "text/plain": [
       "0.5170339345932007"
      ]
     },
     "execution_count": 286,
     "metadata": {},
     "output_type": "execute_result"
    }
   ],
   "source": [
    "cos_sim(embedding_matrix, word2index, 'сотрудник', 'сотрудница')"
   ]
  },
  {
   "cell_type": "code",
   "execution_count": 287,
   "metadata": {},
   "outputs": [
    {
     "data": {
      "text/plain": [
       "0.6192866563796997"
      ]
     },
     "execution_count": 287,
     "metadata": {},
     "output_type": "execute_result"
    }
   ],
   "source": [
    "cos_sim(embedding_matrix, word2index, 'вклад', 'перевод')"
   ]
  },
  {
   "cell_type": "code",
   "execution_count": 290,
   "metadata": {},
   "outputs": [
    {
     "data": {
      "text/plain": [
       "'Косинусная близость слова \"день\" к случайному выбраному слову \"комфорт\" равна 0.051'"
      ]
     },
     "execution_count": 290,
     "metadata": {},
     "output_type": "execute_result"
    }
   ],
   "source": [
    "random_word = random.choice(list(word2index.keys()))\n",
    "sim = cos_sim(embedding_matrix, word2index, 'день', random_word)\n",
    "'Косинусная близость слова \"день\" к случайному выбраному слову \"{}\" равна {:.3f}'.format(random_word, sim)"
   ]
  },
  {
   "cell_type": "markdown",
   "metadata": {},
   "source": [
    "### Тут кос.расстояние чуть изменилось, и мне кажется стало более логичным."
   ]
  },
  {
   "cell_type": "code",
   "execution_count": 310,
   "metadata": {},
   "outputs": [],
   "source": [
    "freq = {}\n",
    "\n",
    "for text in corpus:\n",
    "    for token in text:\n",
    "        if token in freq:\n",
    "            freq[token] += 1\n",
    "        else:\n",
    "            freq[token] = 1"
   ]
  },
  {
   "cell_type": "code",
   "execution_count": 311,
   "metadata": {},
   "outputs": [],
   "source": [
    "sorted_freq = [(k, freq[k]) for k in sorted(freq, key=freq.get, reverse=True)]\n",
    "top_sorted_freq = sorted_freq[0:200]"
   ]
  },
  {
   "cell_type": "code",
   "execution_count": 312,
   "metadata": {},
   "outputs": [
    {
     "name": "stdout",
     "output_type": "stream",
     "text": [
      "[t-SNE] Computing 91 nearest neighbors...\n",
      "[t-SNE] Indexed 16311 samples in 0.003s...\n",
      "[t-SNE] Computed neighbors for 16311 samples in 6.266s...\n",
      "[t-SNE] Computed conditional probabilities for sample 1000 / 16311\n",
      "[t-SNE] Computed conditional probabilities for sample 2000 / 16311\n",
      "[t-SNE] Computed conditional probabilities for sample 3000 / 16311\n",
      "[t-SNE] Computed conditional probabilities for sample 4000 / 16311\n",
      "[t-SNE] Computed conditional probabilities for sample 5000 / 16311\n",
      "[t-SNE] Computed conditional probabilities for sample 6000 / 16311\n",
      "[t-SNE] Computed conditional probabilities for sample 7000 / 16311\n",
      "[t-SNE] Computed conditional probabilities for sample 8000 / 16311\n",
      "[t-SNE] Computed conditional probabilities for sample 9000 / 16311\n",
      "[t-SNE] Computed conditional probabilities for sample 10000 / 16311\n",
      "[t-SNE] Computed conditional probabilities for sample 11000 / 16311\n",
      "[t-SNE] Computed conditional probabilities for sample 12000 / 16311\n",
      "[t-SNE] Computed conditional probabilities for sample 13000 / 16311\n",
      "[t-SNE] Computed conditional probabilities for sample 14000 / 16311\n",
      "[t-SNE] Computed conditional probabilities for sample 15000 / 16311\n",
      "[t-SNE] Computed conditional probabilities for sample 16000 / 16311\n",
      "[t-SNE] Computed conditional probabilities for sample 16311 / 16311\n",
      "[t-SNE] Mean sigma: 1.397854\n",
      "[t-SNE] Computed conditional probabilities in 0.346s\n",
      "[t-SNE] Iteration 50: error = 97.8688812, gradient norm = 0.0133374 (50 iterations in 5.993s)\n",
      "[t-SNE] Iteration 100: error = 97.9901123, gradient norm = 0.0102085 (50 iterations in 2.900s)\n",
      "[t-SNE] Iteration 150: error = 98.0065689, gradient norm = 0.0110745 (50 iterations in 2.465s)\n",
      "[t-SNE] Iteration 200: error = 98.0129242, gradient norm = 0.0100776 (50 iterations in 2.654s)\n",
      "[t-SNE] Iteration 250: error = 98.0157013, gradient norm = 0.0101462 (50 iterations in 2.507s)\n",
      "[t-SNE] KL divergence after 250 iterations with early exaggeration: 98.015701\n",
      "[t-SNE] Iteration 300: error = 4.7471943, gradient norm = 0.0019869 (50 iterations in 3.909s)\n",
      "[t-SNE] Iteration 350: error = 4.3761950, gradient norm = 0.0004447 (50 iterations in 3.590s)\n",
      "[t-SNE] Iteration 400: error = 4.2857733, gradient norm = 0.0002378 (50 iterations in 3.219s)\n",
      "[t-SNE] Iteration 450: error = 4.2358360, gradient norm = 0.0001545 (50 iterations in 3.171s)\n",
      "[t-SNE] Iteration 500: error = 4.2028003, gradient norm = 0.0001120 (50 iterations in 3.104s)\n",
      "[t-SNE] Iteration 550: error = 4.1787443, gradient norm = 0.0000887 (50 iterations in 3.116s)\n",
      "[t-SNE] Iteration 600: error = 4.1596212, gradient norm = 0.0000739 (50 iterations in 3.157s)\n",
      "[t-SNE] Iteration 650: error = 4.1438961, gradient norm = 0.0000620 (50 iterations in 3.242s)\n",
      "[t-SNE] Iteration 700: error = 4.1306381, gradient norm = 0.0000558 (50 iterations in 3.358s)\n",
      "[t-SNE] Iteration 750: error = 4.1193218, gradient norm = 0.0000486 (50 iterations in 3.219s)\n",
      "[t-SNE] Iteration 800: error = 4.1094599, gradient norm = 0.0000434 (50 iterations in 3.110s)\n",
      "[t-SNE] Iteration 850: error = 4.1008234, gradient norm = 0.0000390 (50 iterations in 3.351s)\n",
      "[t-SNE] Iteration 900: error = 4.0931520, gradient norm = 0.0000360 (50 iterations in 3.274s)\n",
      "[t-SNE] Iteration 950: error = 4.0864062, gradient norm = 0.0000323 (50 iterations in 3.171s)\n",
      "[t-SNE] Iteration 1000: error = 4.0803180, gradient norm = 0.0000299 (50 iterations in 3.198s)\n",
      "[t-SNE] KL divergence after 1000 iterations: 4.080318\n"
     ]
    }
   ],
   "source": [
    "tsne = TSNE(n_components=2, init='pca', random_state=42, verbose=2)\n",
    "reduced = tsne.fit_transform(embedding_matrix)"
   ]
  },
  {
   "cell_type": "code",
   "execution_count": 313,
   "metadata": {},
   "outputs": [],
   "source": [
    "top_words = [a for a,_ in top_sorted_freq]"
   ]
  },
  {
   "cell_type": "code",
   "execution_count": 314,
   "metadata": {},
   "outputs": [],
   "source": [
    "inds = [word2index[word] for word in top_words]\n",
    "x_coords = [coords[0] for coords in reduced[inds]]\n",
    "y_coords = [coords[1] for coords in reduced[inds]]"
   ]
  },
  {
   "cell_type": "code",
   "execution_count": 315,
   "metadata": {},
   "outputs": [
    {
     "data": {
      "image/png": "[encoded data removed]",
      "text/plain": [
       "<Figure size 1080x1080 with 1 Axes>"
      ]
     },
     "metadata": {
      "needs_background": "light"
     },
     "output_type": "display_data"
    }
   ],
   "source": [
    "for (x, y, word) in zip(x_coords, y_coords, top_words):\n",
    "    plt.scatter(x, y, marker='.', color='blue')\n",
    "    plt.text(x+0.01, y+0.01, word, fontsize=9)\n",
    "plt.show()"
   ]
  },
  {
   "cell_type": "code",
   "execution_count": 294,
   "metadata": {
    "pycharm": {
     "name": "#%%\n"
    }
   },
   "outputs": [],
   "source": [
    "import pandas as pd\n",
    "df = pd.read_csv(\"/Users/veronicasmilga/Desktop/ru_simlex965_tagged.tsv\", sep='\\t') "
   ]
  },
  {
   "cell_type": "code",
   "execution_count": 295,
   "metadata": {},
   "outputs": [],
   "source": [
    "def clean_text(text):\n",
    "    return text.split('_')[0]"
   ]
  },
  {
   "cell_type": "code",
   "execution_count": 296,
   "metadata": {},
   "outputs": [],
   "source": [
    "df['# Word1'] = df['# Word1'].apply(clean_text)\n",
    "df['Word2'] = df['Word2'].apply(clean_text)"
   ]
  },
  {
   "cell_type": "code",
   "execution_count": 297,
   "metadata": {
    "scrolled": true
   },
   "outputs": [],
   "source": [
    "from sklearn.preprocessing import MinMaxScaler\n",
    "scaler = MinMaxScaler()\n",
    "df[['Average Score']] = scaler.fit_transform(df[['Average Score']])"
   ]
  },
  {
   "cell_type": "code",
   "execution_count": 298,
   "metadata": {
    "scrolled": true
   },
   "outputs": [],
   "source": [
    "df[\"Average Score cossim\"] = np.nan"
   ]
  },
  {
   "cell_type": "code",
   "execution_count": 299,
   "metadata": {},
   "outputs": [
    {
     "data": {
      "text/plain": [
       "392"
      ]
     },
     "execution_count": 299,
     "metadata": {},
     "output_type": "execute_result"
    }
   ],
   "source": [
    "c = 0\n",
    "for index, row in df.iterrows():\n",
    "        try:\n",
    "            value = cos_sim(embedding_matrix, word2index, row['# Word1'], row['Word2'])\n",
    "            df.loc[index, 'Average Score cossim'] = value\n",
    "        except:\n",
    "            c+=1\n",
    "c"
   ]
  },
  {
   "cell_type": "markdown",
   "metadata": {},
   "source": [
    "Обратим внимание на то, что сейчас у нас гораздо (почти на 80 штук) меньше слов, которые были в корпусе для оценки, но не попали в модель. Это связано с тем, как мы расширили датасет (почти в два раза)."
   ]
  },
  {
   "cell_type": "code",
   "execution_count": 305,
   "metadata": {},
   "outputs": [],
   "source": [
    "df[['Average Score cossim']] = scaler.fit_transform(df[['Average Score cossim']])"
   ]
  },
  {
   "cell_type": "code",
   "execution_count": 306,
   "metadata": {},
   "outputs": [],
   "source": [
    "df = df.dropna()"
   ]
  },
  {
   "cell_type": "code",
   "execution_count": 308,
   "metadata": {},
   "outputs": [],
   "source": [
    "def get_mse(df, embedding_matrix, word2index):\n",
    "    sum_err = 0\n",
    "    num = 0\n",
    "    out_of_voc = 0\n",
    "    for index, row in df.iterrows():\n",
    "        try:\n",
    "            sum_err += (row['Average Score'] - row['Average Score cossim'])**2\n",
    "            num += 1\n",
    "        except:\n",
    "            out_of_voc += 1\n",
    "    MSE = sum_err/num\n",
    "    return MSE"
   ]
  },
  {
   "cell_type": "code",
   "execution_count": 309,
   "metadata": {
    "scrolled": true
   },
   "outputs": [
    {
     "data": {
      "text/plain": [
       "0.13758237137997295"
      ]
     },
     "execution_count": 309,
     "metadata": {},
     "output_type": "execute_result"
    }
   ],
   "source": [
    "get_mse(df, embedding_matrix, word2index)"
   ]
  },
  {
   "cell_type": "markdown",
   "metadata": {},
   "source": [
    "Ура, мы уменьшили MSE на 0.04, взяв больше данных (200к вместо 100к) с меньшим порогом среза (10)."
   ]
  }
 ],
 "metadata": {
  "kernelspec": {
   "display_name": "Python 3 (ipykernel)",
   "language": "python",
   "name": "python3"
  },
  "language_info": {
   "codemirror_mode": {
    "name": "ipython",
    "version": 3
   },
   "file_extension": ".py",
   "mimetype": "text/x-python",
   "name": "python",
   "nbconvert_exporter": "python",
   "pygments_lexer": "ipython3",
   "version": "3.8.12"
  }
 },
 "nbformat": 4,
 "nbformat_minor": 2
}
